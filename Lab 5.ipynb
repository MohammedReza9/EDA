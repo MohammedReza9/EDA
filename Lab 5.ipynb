{
 "cells": [
  {
   "cell_type": "markdown",
   "metadata": {},
   "source": [
    "# Lab 5 - Exploratory Data Analysis"
   ]
  },
  {
   "cell_type": "code",
   "execution_count": 1,
   "metadata": {},
   "outputs": [],
   "source": [
    "% matplotlib inline"
   ]
  },
  {
   "cell_type": "markdown",
   "metadata": {},
   "source": [
    "## General Instructions\n",
    "\n",
    "In this course, Labs are the chance to applying concepts and methods discussed in the module.\n",
    "They are a low stakes (pass/fail) opportunity for you to try your hand at *doing*.\n",
    "Please make sure you follow the general Lab instructions, described in the Syllabus.\n",
    "The summary is:\n",
    "\n",
    "* Discussions should start as students work through the material, first Wednesday at the start of the new Module week. \n",
    "* Labs are due by Sunday. \n",
    "* Lab solutions are released Monday.  \n",
    "* Post Self Evaluation and Lab to Lab Group on Blackboard and Lab to Module on Blackboard on Monday.\n",
    "\n",
    "The last part is important because the Problem Sets will require you to perform the same or similar tasks without guidance.\n",
    "Problem Sets are your opportunity to demonstrate that you understand how to apply the concepts and methods discussed in the relevant Modules and Labs."
   ]
  },
  {
   "cell_type": "markdown",
   "metadata": {},
   "source": [
    "## Specific Instructions\n",
    "\n",
    "1.  For Blackboard submissions, if there are no accompanying files, you should submit *only* your notebook and it should be named using *only* your JHED id: fsmith79.ipynb for example if your JHED id were \"fsmith79\". If the assignment requires additional files, you should name the *folder/directory* your JHED id and put all items in that folder/directory, ZIP it up (only ZIP...no other compression), and submit it to Blackboard.\n",
    "\n",
    "    * do **not** use absolute paths in your notebooks. All resources should located in the same directory as the rest of your assignments.\n",
    "    * the directory **must** be named your JHED id and **only** your JHED id.\n",
    "    * do **not** return files provided by us (data files, .py files)\n",
    "\n",
    "\n",
    "2. Data Science is as much about what you write (communicating) as the code you execute (researching). In many places, you will be required to execute code and discuss both the purpose and the result. Additionally, Data Science is about reproducibility and transparency. This includes good communication with your team and possibly with yourself. Therefore, you must show **all** work.\n",
    "\n",
    "3. Avail yourself of the Markdown/Codecell nature of the notebook. If you don't know about Markdown, look it up. Your notebooks should not look like ransom notes. Don't make everything bold. Clearly indicate what question you are answering.\n",
    "\n",
    "4. Submit a cleanly executed notebook. The first code cell should say `In [1]` and each successive code cell should increase by 1 throughout the notebook."
   ]
  },
  {
   "cell_type": "markdown",
   "metadata": {},
   "source": [
    "## Exploratory Data Analysis\n",
    "\n",
    "In this Module, we partitioned the problem of EDA using a taxonomy with the following characteristics:\n",
    "\n",
    "* **Data Type**: Numerical or Categorical.\n",
    "* **Number of Variables**: 1 or many.\n",
    "* **Technique**: descriptive statistics, tables or charts.\n",
    "\n",
    "we will skip \"goal\" for now.\n",
    "\n",
    "And we came up with a general set of tools for analyzing data, not all of them applicable to all the cases:\n",
    "\n",
    "* Descriptive Statistics\n",
    "* Frequency Table (absolute and relative)\n",
    "* Histograms\n",
    "* Boxplots Plot\n",
    "* Bar chart\n",
    "* Dot chart\n",
    "* Heat map\n",
    "* Scatter Plot\n",
    "\n",
    "This does not exhaust all the chart types, though. We also have the following basic chart types that we talked about in the Visualization Module:\n",
    "\n",
    "* Points\n",
    "* Lines\n",
    "* Lines and points\n",
    "\n",
    "The goal for this lab is to get you acquainted with most of these tools by analyzing a real data set. You *must* follow the framework discussed in the Module for a *methodical* EDA:\n",
    "\n",
    "1. Single Variable Exploration.\n",
    "2. Exploration of Pairwise Relationships.\n",
    "\n",
    "Each and every analysis (of a single variable or a pair of variables) should follow the general pattern of discuss/code/discuss. If you need examples for EDA, look at the Example in *Fundamentals*. \n",
    "\n",
    "In order to guide the EDA, you can take the following as the main question:\n",
    "\n",
    "> What are the factors influencing charges?\n",
    "\n",
    "Using that problem as a guide, explore 5 pairwise relationships. Because you have a question, you should *not* use correlations as a *guide* to exploration (however, correlation coefficients are still reasonable descriptive statistics for two numeric variables).\n",
    "\n",
    "As you explore those pairings, questions will arise, \"I wonder if....\" or \"I wonder about...\". Make note of them. **Do not get distracted**. As a rough guide, you should get three (3) questions out of every single or pairwise exploration. As a result, you should have at least 15 of them when you're done (plus all the questions you generated looking at each variable individually!).\n",
    "\n",
    "Pick five (5) of *those* questions and answer them.\n",
    "\n",
    "And for each case, try different visualizations. What does a histogram tell you that a box-and-whiskers plot does not and vice versa? What about different bin sizes? And the most important bit: you must write something for every single chart you produce. \n",
    "\n",
    "The emphasis here is on *science*.\n",
    "\n",
    "At every juncture, you must say:\n",
    "\n",
    "1. **Why am I trying this?** \"I'm going to look at this data using a box and whiskers plot to explore its general shape.\" \"I am trying more bins to see if the histogram reveals any interesting characteristics.\"\n",
    "2. **Do it.**\n",
    "3. **What did I learn?** \"Although I know the data is generated from a normal distribution, it doesn't look normally distributed. The sample mean is X while the true mean is Y.\"\n",
    "\n",
    "BTW, do not literally say \"Why am I doing this?\"...these questions are just *prompts* or *scaffolding*.\n",
    "\n",
    "For now, you shouldn't just \"change\" anything. Let's say you start with 10 bins in your histogram. You decide you want to see what happens with 20. **Do not just change the value to 20**. Instead, make a new histogram with 20 bins, documenting why you thought 20 bins might be better, what you hoped to see, and then what you saw as a result of doing it.\n",
    "\n",
    "(Believe me, there will be a time when a boss says \"did you try 10 bins?\" and you'll say \"yes\" but you won't remember what it looked like or they'll want to see it and you'll have to do it all again anyway. Your notebook is a documentation of *everything* you tried.)\n",
    "\n",
    "Be inventive and creative."
   ]
  },
  {
   "cell_type": "code",
   "execution_count": 1,
   "metadata": {},
   "outputs": [],
   "source": [
    "import numpy as np\n",
    "import random as py_random\n",
    "import numpy.random as np_random\n",
    "import time\n",
    "import seaborn as sns\n",
    "import matplotlib.pyplot as plt\n",
    "import pandas as pd\n",
    "import scipy.stats as stats\n",
    "import eda\n",
    "import statsmodels.api as sm\n",
    "\n",
    "sns.set(style=\"whitegrid\")"
   ]
  },
  {
   "cell_type": "markdown",
   "metadata": {},
   "source": [
    "# Answer"
   ]
  },
  {
   "cell_type": "markdown",
   "metadata": {},
   "source": [
    "Use this link to get the data:\n",
    "\n",
    "```\n",
    "insurance = pd.read_csv(\"https://raw.githubusercontent.com/fundamentals-of-data-science/datasets/master/insurance.csv\")\n",
    "```"
   ]
  },
  {
   "cell_type": "code",
   "execution_count": 2,
   "metadata": {},
   "outputs": [
    {
     "data": {
      "text/html": [
       "<div>\n",
       "<style scoped>\n",
       "    .dataframe tbody tr th:only-of-type {\n",
       "        vertical-align: middle;\n",
       "    }\n",
       "\n",
       "    .dataframe tbody tr th {\n",
       "        vertical-align: top;\n",
       "    }\n",
       "\n",
       "    .dataframe thead th {\n",
       "        text-align: right;\n",
       "    }\n",
       "</style>\n",
       "<table border=\"1\" class=\"dataframe\">\n",
       "  <thead>\n",
       "    <tr style=\"text-align: right;\">\n",
       "      <th></th>\n",
       "      <th>age</th>\n",
       "      <th>sex</th>\n",
       "      <th>bmi</th>\n",
       "      <th>children</th>\n",
       "      <th>smoker</th>\n",
       "      <th>region</th>\n",
       "      <th>charges</th>\n",
       "    </tr>\n",
       "  </thead>\n",
       "  <tbody>\n",
       "    <tr>\n",
       "      <th>0</th>\n",
       "      <td>19</td>\n",
       "      <td>female</td>\n",
       "      <td>27.900</td>\n",
       "      <td>0</td>\n",
       "      <td>yes</td>\n",
       "      <td>southwest</td>\n",
       "      <td>16884.92400</td>\n",
       "    </tr>\n",
       "    <tr>\n",
       "      <th>1</th>\n",
       "      <td>18</td>\n",
       "      <td>male</td>\n",
       "      <td>33.770</td>\n",
       "      <td>1</td>\n",
       "      <td>no</td>\n",
       "      <td>southeast</td>\n",
       "      <td>1725.55230</td>\n",
       "    </tr>\n",
       "    <tr>\n",
       "      <th>2</th>\n",
       "      <td>28</td>\n",
       "      <td>male</td>\n",
       "      <td>33.000</td>\n",
       "      <td>3</td>\n",
       "      <td>no</td>\n",
       "      <td>southeast</td>\n",
       "      <td>4449.46200</td>\n",
       "    </tr>\n",
       "    <tr>\n",
       "      <th>3</th>\n",
       "      <td>33</td>\n",
       "      <td>male</td>\n",
       "      <td>22.705</td>\n",
       "      <td>0</td>\n",
       "      <td>no</td>\n",
       "      <td>northwest</td>\n",
       "      <td>21984.47061</td>\n",
       "    </tr>\n",
       "    <tr>\n",
       "      <th>4</th>\n",
       "      <td>32</td>\n",
       "      <td>male</td>\n",
       "      <td>28.880</td>\n",
       "      <td>0</td>\n",
       "      <td>no</td>\n",
       "      <td>northwest</td>\n",
       "      <td>3866.85520</td>\n",
       "    </tr>\n",
       "  </tbody>\n",
       "</table>\n",
       "</div>"
      ],
      "text/plain": [
       "   age     sex     bmi  children smoker     region      charges\n",
       "0   19  female  27.900         0    yes  southwest  16884.92400\n",
       "1   18    male  33.770         1     no  southeast   1725.55230\n",
       "2   28    male  33.000         3     no  southeast   4449.46200\n",
       "3   33    male  22.705         0     no  northwest  21984.47061\n",
       "4   32    male  28.880         0     no  northwest   3866.85520"
      ]
     },
     "execution_count": 2,
     "metadata": {},
     "output_type": "execute_result"
    }
   ],
   "source": [
    "data = pd.read_csv(\"https://raw.githubusercontent.com/fundamentals-of-data-science/datasets/master/insurance.csv\")\n",
    "data.head()\n"
   ]
  },
  {
   "cell_type": "code",
   "execution_count": 3,
   "metadata": {},
   "outputs": [
    {
     "name": "stdout",
     "output_type": "stream",
     "text": [
      "<class 'pandas.core.frame.DataFrame'>\n",
      "RangeIndex: 1338 entries, 0 to 1337\n",
      "Data columns (total 7 columns):\n",
      "age         1338 non-null int64\n",
      "sex         1338 non-null object\n",
      "bmi         1338 non-null float64\n",
      "children    1338 non-null int64\n",
      "smoker      1338 non-null object\n",
      "region      1338 non-null object\n",
      "charges     1338 non-null float64\n",
      "dtypes: float64(2), int64(2), object(3)\n",
      "memory usage: 73.2+ KB\n"
     ]
    }
   ],
   "source": [
    "data.info()"
   ]
  },
  {
   "cell_type": "markdown",
   "metadata": {},
   "source": [
    "## Single Variables\n",
    "\n",
    "We start with the single variable EDA of all the features provided in the data."
   ]
  },
  {
   "cell_type": "markdown",
   "metadata": {},
   "source": [
    "### age\n",
    "\n",
    "`age` a numeric variable is the age of the person getting insured. I expect to get decreasing values for higher ages as there are less people in ages >60 than other ages."
   ]
  },
  {
   "cell_type": "code",
   "execution_count": 4,
   "metadata": {},
   "outputs": [
    {
     "data": {
      "text/html": [
       "<div>\n",
       "<style scoped>\n",
       "    .dataframe tbody tr th:only-of-type {\n",
       "        vertical-align: middle;\n",
       "    }\n",
       "\n",
       "    .dataframe tbody tr th {\n",
       "        vertical-align: top;\n",
       "    }\n",
       "\n",
       "    .dataframe thead th {\n",
       "        text-align: right;\n",
       "    }\n",
       "</style>\n",
       "<table border=\"1\" class=\"dataframe\">\n",
       "  <thead>\n",
       "    <tr style=\"text-align: right;\">\n",
       "      <th></th>\n",
       "      <th>age</th>\n",
       "    </tr>\n",
       "  </thead>\n",
       "  <tbody>\n",
       "    <tr>\n",
       "      <th>18</th>\n",
       "      <td>69</td>\n",
       "    </tr>\n",
       "    <tr>\n",
       "      <th>19</th>\n",
       "      <td>68</td>\n",
       "    </tr>\n",
       "    <tr>\n",
       "      <th>20</th>\n",
       "      <td>29</td>\n",
       "    </tr>\n",
       "    <tr>\n",
       "      <th>21</th>\n",
       "      <td>28</td>\n",
       "    </tr>\n",
       "    <tr>\n",
       "      <th>22</th>\n",
       "      <td>28</td>\n",
       "    </tr>\n",
       "    <tr>\n",
       "      <th>23</th>\n",
       "      <td>28</td>\n",
       "    </tr>\n",
       "    <tr>\n",
       "      <th>24</th>\n",
       "      <td>28</td>\n",
       "    </tr>\n",
       "    <tr>\n",
       "      <th>25</th>\n",
       "      <td>28</td>\n",
       "    </tr>\n",
       "    <tr>\n",
       "      <th>26</th>\n",
       "      <td>28</td>\n",
       "    </tr>\n",
       "    <tr>\n",
       "      <th>27</th>\n",
       "      <td>28</td>\n",
       "    </tr>\n",
       "    <tr>\n",
       "      <th>28</th>\n",
       "      <td>28</td>\n",
       "    </tr>\n",
       "    <tr>\n",
       "      <th>29</th>\n",
       "      <td>27</td>\n",
       "    </tr>\n",
       "    <tr>\n",
       "      <th>30</th>\n",
       "      <td>27</td>\n",
       "    </tr>\n",
       "    <tr>\n",
       "      <th>31</th>\n",
       "      <td>27</td>\n",
       "    </tr>\n",
       "    <tr>\n",
       "      <th>32</th>\n",
       "      <td>26</td>\n",
       "    </tr>\n",
       "    <tr>\n",
       "      <th>33</th>\n",
       "      <td>26</td>\n",
       "    </tr>\n",
       "    <tr>\n",
       "      <th>34</th>\n",
       "      <td>26</td>\n",
       "    </tr>\n",
       "    <tr>\n",
       "      <th>35</th>\n",
       "      <td>25</td>\n",
       "    </tr>\n",
       "    <tr>\n",
       "      <th>36</th>\n",
       "      <td>25</td>\n",
       "    </tr>\n",
       "    <tr>\n",
       "      <th>37</th>\n",
       "      <td>25</td>\n",
       "    </tr>\n",
       "    <tr>\n",
       "      <th>38</th>\n",
       "      <td>25</td>\n",
       "    </tr>\n",
       "    <tr>\n",
       "      <th>39</th>\n",
       "      <td>25</td>\n",
       "    </tr>\n",
       "    <tr>\n",
       "      <th>40</th>\n",
       "      <td>27</td>\n",
       "    </tr>\n",
       "    <tr>\n",
       "      <th>41</th>\n",
       "      <td>27</td>\n",
       "    </tr>\n",
       "    <tr>\n",
       "      <th>42</th>\n",
       "      <td>27</td>\n",
       "    </tr>\n",
       "    <tr>\n",
       "      <th>43</th>\n",
       "      <td>27</td>\n",
       "    </tr>\n",
       "    <tr>\n",
       "      <th>44</th>\n",
       "      <td>27</td>\n",
       "    </tr>\n",
       "    <tr>\n",
       "      <th>45</th>\n",
       "      <td>29</td>\n",
       "    </tr>\n",
       "    <tr>\n",
       "      <th>46</th>\n",
       "      <td>29</td>\n",
       "    </tr>\n",
       "    <tr>\n",
       "      <th>47</th>\n",
       "      <td>29</td>\n",
       "    </tr>\n",
       "    <tr>\n",
       "      <th>48</th>\n",
       "      <td>29</td>\n",
       "    </tr>\n",
       "    <tr>\n",
       "      <th>49</th>\n",
       "      <td>28</td>\n",
       "    </tr>\n",
       "    <tr>\n",
       "      <th>50</th>\n",
       "      <td>29</td>\n",
       "    </tr>\n",
       "    <tr>\n",
       "      <th>51</th>\n",
       "      <td>29</td>\n",
       "    </tr>\n",
       "    <tr>\n",
       "      <th>52</th>\n",
       "      <td>29</td>\n",
       "    </tr>\n",
       "    <tr>\n",
       "      <th>53</th>\n",
       "      <td>28</td>\n",
       "    </tr>\n",
       "    <tr>\n",
       "      <th>54</th>\n",
       "      <td>28</td>\n",
       "    </tr>\n",
       "    <tr>\n",
       "      <th>55</th>\n",
       "      <td>26</td>\n",
       "    </tr>\n",
       "    <tr>\n",
       "      <th>56</th>\n",
       "      <td>26</td>\n",
       "    </tr>\n",
       "    <tr>\n",
       "      <th>57</th>\n",
       "      <td>26</td>\n",
       "    </tr>\n",
       "    <tr>\n",
       "      <th>58</th>\n",
       "      <td>25</td>\n",
       "    </tr>\n",
       "    <tr>\n",
       "      <th>59</th>\n",
       "      <td>25</td>\n",
       "    </tr>\n",
       "    <tr>\n",
       "      <th>60</th>\n",
       "      <td>23</td>\n",
       "    </tr>\n",
       "    <tr>\n",
       "      <th>61</th>\n",
       "      <td>23</td>\n",
       "    </tr>\n",
       "    <tr>\n",
       "      <th>62</th>\n",
       "      <td>23</td>\n",
       "    </tr>\n",
       "    <tr>\n",
       "      <th>63</th>\n",
       "      <td>23</td>\n",
       "    </tr>\n",
       "    <tr>\n",
       "      <th>64</th>\n",
       "      <td>22</td>\n",
       "    </tr>\n",
       "  </tbody>\n",
       "</table>\n",
       "</div>"
      ],
      "text/plain": [
       "    age\n",
       "18   69\n",
       "19   68\n",
       "20   29\n",
       "21   28\n",
       "22   28\n",
       "23   28\n",
       "24   28\n",
       "25   28\n",
       "26   28\n",
       "27   28\n",
       "28   28\n",
       "29   27\n",
       "30   27\n",
       "31   27\n",
       "32   26\n",
       "33   26\n",
       "34   26\n",
       "35   25\n",
       "36   25\n",
       "37   25\n",
       "38   25\n",
       "39   25\n",
       "40   27\n",
       "41   27\n",
       "42   27\n",
       "43   27\n",
       "44   27\n",
       "45   29\n",
       "46   29\n",
       "47   29\n",
       "48   29\n",
       "49   28\n",
       "50   29\n",
       "51   29\n",
       "52   29\n",
       "53   28\n",
       "54   28\n",
       "55   26\n",
       "56   26\n",
       "57   26\n",
       "58   25\n",
       "59   25\n",
       "60   23\n",
       "61   23\n",
       "62   23\n",
       "63   23\n",
       "64   22"
      ]
     },
     "execution_count": 4,
     "metadata": {},
     "output_type": "execute_result"
    }
   ],
   "source": [
    "pd.DataFrame(data[\"age\"].value_counts().sort_index())"
   ]
  },
  {
   "cell_type": "code",
   "execution_count": 5,
   "metadata": {},
   "outputs": [
    {
     "data": {
      "image/png": "[encoded data removed]",
      "text/plain": [
       "<Figure size 1440x432 with 1 Axes>"
      ]
     },
     "metadata": {
      "needs_background": "light"
     },
     "output_type": "display_data"
    }
   ],
   "source": [
    "counts = data[\"age\"].value_counts().sort_index()\n",
    "x = range( len( counts))\n",
    "width = 1/1.5\n",
    "\n",
    "figure = plt.figure(figsize=(20, 6))\n",
    "\n",
    "axes = figure.add_subplot(1, 1, 1)\n",
    "axes.bar(x, counts, width, color=\"dimgray\", align=\"center\")\n",
    "axes.set_xticks(x)\n",
    "axes.set_xticklabels(counts.axes[0])\n",
    "axes.set_title( \"Number of people in each age\")\n",
    "axes.set_xlabel(\"Age\")\n",
    "axes.set_ylabel( \"Counts\")\n",
    "axes.xaxis.grid(False)\n",
    "\n",
    "plt.show()\n",
    "plt.close()"
   ]
  },
  {
   "cell_type": "markdown",
   "metadata": {},
   "source": [
    "There is an unusually large number of 18 and 19 year olds. There is more than twice as many 18 or 19 year olds individually as any other other age individually. We do however see the expectation I had that the counts would decrease with ages >60"
   ]
  },
  {
   "cell_type": "markdown",
   "metadata": {},
   "source": [
    "### sex\n",
    "\n",
    "`sex` is a categorical variable that is the gender of the person getting insured. I expect there to be a relatively equal amount of males and females in the dataset"
   ]
  },
  {
   "cell_type": "code",
   "execution_count": 6,
   "metadata": {},
   "outputs": [
    {
     "data": {
      "text/html": [
       "<div>\n",
       "<style scoped>\n",
       "    .dataframe tbody tr th:only-of-type {\n",
       "        vertical-align: middle;\n",
       "    }\n",
       "\n",
       "    .dataframe tbody tr th {\n",
       "        vertical-align: top;\n",
       "    }\n",
       "\n",
       "    .dataframe thead th {\n",
       "        text-align: right;\n",
       "    }\n",
       "</style>\n",
       "<table border=\"1\" class=\"dataframe\">\n",
       "  <thead>\n",
       "    <tr style=\"text-align: right;\">\n",
       "      <th></th>\n",
       "      <th>sex</th>\n",
       "    </tr>\n",
       "  </thead>\n",
       "  <tbody>\n",
       "    <tr>\n",
       "      <th>male</th>\n",
       "      <td>676</td>\n",
       "    </tr>\n",
       "    <tr>\n",
       "      <th>female</th>\n",
       "      <td>662</td>\n",
       "    </tr>\n",
       "  </tbody>\n",
       "</table>\n",
       "</div>"
      ],
      "text/plain": [
       "        sex\n",
       "male    676\n",
       "female  662"
      ]
     },
     "execution_count": 6,
     "metadata": {},
     "output_type": "execute_result"
    }
   ],
   "source": [
    "pd.DataFrame(data[\"sex\"].value_counts())"
   ]
  },
  {
   "cell_type": "markdown",
   "metadata": {},
   "source": [
    "There are 676 males in the dataset and 662 females which is relatively the same."
   ]
  },
  {
   "cell_type": "markdown",
   "metadata": {},
   "source": [
    "### bmi\n",
    "\n",
    "`bmi` is a numerical variable that is the body mass index of the person being insured.\\\n",
    "BMI can also be a categorical variable. According to the National Institute of Health (NIH) :\"Body mass index (BMI) is a measure of body fat based on height and weight that applies to adult men and women.\" and the scale for it is:\n",
    "\n",
    "BMI Categories:\\\n",
    "Underweight = <18.5 \\\n",
    "Normal weight = 18.5–24.9\\\n",
    "Overweight = 25–29.9\\\n",
    "Obesity = BMI of 30 or greater\n",
    "\n",
    "https://www.nhlbi.nih.gov/health/educational/lose_wt/BMI/bmicalc.htm"
   ]
  },
  {
   "cell_type": "code",
   "execution_count": 7,
   "metadata": {},
   "outputs": [
    {
     "data": {
      "text/plain": [
       "count    1338.000000\n",
       "mean       30.663397\n",
       "std         6.098187\n",
       "min        15.960000\n",
       "25%        26.296250\n",
       "50%        30.400000\n",
       "75%        34.693750\n",
       "max        53.130000\n",
       "Name: bmi, dtype: float64"
      ]
     },
     "execution_count": 7,
     "metadata": {},
     "output_type": "execute_result"
    }
   ],
   "source": [
    "data[\"bmi\"].describe()"
   ]
  },
  {
   "cell_type": "code",
   "execution_count": 8,
   "metadata": {},
   "outputs": [
    {
     "data": {
      "text/plain": [
       "33.0"
      ]
     },
     "execution_count": 8,
     "metadata": {},
     "output_type": "execute_result"
    },
    {
     "data": {
      "image/png": "[encoded data removed]",
      "text/plain": [
       "<Figure size 432x288 with 1 Axes>"
      ]
     },
     "metadata": {
      "needs_background": "light"
     },
     "output_type": "display_data"
    }
   ],
   "source": [
    "sns.distplot(data[\"bmi\"])\n",
    "data[\"bmi\"][2]"
   ]
  },
  {
   "cell_type": "markdown",
   "metadata": {},
   "source": [
    "More than 50% of the dataset fit into the category of \"obesity\" by the scale of the NIH"
   ]
  },
  {
   "cell_type": "markdown",
   "metadata": {},
   "source": [
    "### children\n",
    "\n",
    "`children` is a numerical variable that is the number of children a given insured person has."
   ]
  },
  {
   "cell_type": "code",
   "execution_count": 9,
   "metadata": {},
   "outputs": [
    {
     "data": {
      "text/plain": [
       "0    574\n",
       "1    324\n",
       "2    240\n",
       "3    157\n",
       "4     25\n",
       "5     18\n",
       "Name: children, dtype: int64"
      ]
     },
     "execution_count": 9,
     "metadata": {},
     "output_type": "execute_result"
    }
   ],
   "source": [
    "data[\"children\"].value_counts().sort_index()"
   ]
  },
  {
   "cell_type": "code",
   "execution_count": 10,
   "metadata": {},
   "outputs": [
    {
     "data": {
      "text/plain": [
       "<matplotlib.axes._subplots.AxesSubplot at 0x7fbef90ba5f8>"
      ]
     },
     "execution_count": 10,
     "metadata": {},
     "output_type": "execute_result"
    },
    {
     "data": {
      "image/png": "[encoded data removed]",
      "text/plain": [
       "<Figure size 432x288 with 1 Axes>"
      ]
     },
     "metadata": {
      "needs_background": "light"
     },
     "output_type": "display_data"
    }
   ],
   "source": [
    "sns.distplot(data[\"children\"],kde=False)"
   ]
  },
  {
   "cell_type": "markdown",
   "metadata": {},
   "source": [
    "574 people have no children, 324 people have 1 child, 240 people have 2 children, 157 people have 3 children, 25 people have 4 children, and 18 people have 5 children."
   ]
  },
  {
   "cell_type": "markdown",
   "metadata": {},
   "source": [
    "### smoker\n",
    "\n",
    "`smoker` is a binary categorical variable that is \"yes\" if the insured person smokes and \"no\" if he/she does not."
   ]
  },
  {
   "cell_type": "code",
   "execution_count": 11,
   "metadata": {},
   "outputs": [
    {
     "data": {
      "text/plain": [
       "no     1064\n",
       "yes     274\n",
       "Name: smoker, dtype: int64"
      ]
     },
     "execution_count": 11,
     "metadata": {},
     "output_type": "execute_result"
    }
   ],
   "source": [
    "data[\"smoker\"].value_counts()"
   ]
  },
  {
   "cell_type": "markdown",
   "metadata": {},
   "source": [
    "There are 1064 non-smokers and 274 smokers"
   ]
  },
  {
   "cell_type": "markdown",
   "metadata": {},
   "source": [
    "### region\n",
    "\n",
    "`region` is a categorical variable that is the region the insured person is from."
   ]
  },
  {
   "cell_type": "code",
   "execution_count": 12,
   "metadata": {},
   "outputs": [
    {
     "data": {
      "text/plain": [
       "southeast    364\n",
       "northwest    325\n",
       "southwest    325\n",
       "northeast    324\n",
       "Name: region, dtype: int64"
      ]
     },
     "execution_count": 12,
     "metadata": {},
     "output_type": "execute_result"
    }
   ],
   "source": [
    "data[\"region\"].value_counts()"
   ]
  },
  {
   "cell_type": "code",
   "execution_count": 13,
   "metadata": {},
   "outputs": [
    {
     "data": {
      "image/png": "[encoded data removed]",
      "text/plain": [
       "<Figure size 720x432 with 1 Axes>"
      ]
     },
     "metadata": {
      "needs_background": "light"
     },
     "output_type": "display_data"
    }
   ],
   "source": [
    "regionlabels = ['southeast', 'southwest', 'northwest', 'northeast']\n",
    "figure = plt.figure(figsize=(10, 6))\n",
    "\n",
    "axes = figure.add_subplot(1, 1, 1)\n",
    "axes.set_xlabel(\"region\")\n",
    "axes.bar(regionlabels, data[\"region\"].value_counts(), width, color=\"dimgray\", align=\"center\")\n",
    "axes.set_xticks(regionlabels)\n",
    "axes.set_xticklabels(data[\"region\"].value_counts().axes[0])\n",
    "axes.set_title( \"Relative Frequency of each region\")\n",
    "axes.set_ylabel( \"count\")\n",
    "axes.xaxis.grid(False)\n",
    "\n",
    "plt.show()\n",
    "plt.close()"
   ]
  },
  {
   "cell_type": "markdown",
   "metadata": {},
   "source": [
    "There is about 30 more people from the southeast region than any other region. All of the other regions are fairly even in count."
   ]
  },
  {
   "cell_type": "markdown",
   "metadata": {},
   "source": [
    "### charges\n",
    "\n",
    "`charges` is a numerical variable that is the amount of dollars charged to a person per year in insurance."
   ]
  },
  {
   "cell_type": "code",
   "execution_count": 14,
   "metadata": {},
   "outputs": [
    {
     "data": {
      "text/plain": [
       "count     1338.000000\n",
       "mean     13270.422265\n",
       "std      12110.011237\n",
       "min       1121.873900\n",
       "25%       4740.287150\n",
       "50%       9382.033000\n",
       "75%      16639.912515\n",
       "max      63770.428010\n",
       "Name: charges, dtype: float64"
      ]
     },
     "execution_count": 14,
     "metadata": {},
     "output_type": "execute_result"
    }
   ],
   "source": [
    "data[\"charges\"].describe()"
   ]
  },
  {
   "cell_type": "code",
   "execution_count": 15,
   "metadata": {},
   "outputs": [
    {
     "data": {
      "image/png": "[encoded data removed]",
      "text/plain": [
       "<Figure size 432x288 with 1 Axes>"
      ]
     },
     "metadata": {
      "needs_background": "light"
     },
     "output_type": "display_data"
    }
   ],
   "source": [
    "sns.distplot(data[\"charges\"],kde=False);"
   ]
  },
  {
   "cell_type": "markdown",
   "metadata": {},
   "source": [
    "Most of the charges are under 10000 but there are a few outliers that go up to 63770"
   ]
  },
  {
   "cell_type": "code",
   "execution_count": 16,
   "metadata": {},
   "outputs": [
    {
     "data": {
      "text/plain": [
       "Text(0.5, 0, 'log_charges')"
      ]
     },
     "execution_count": 16,
     "metadata": {},
     "output_type": "execute_result"
    },
    {
     "data": {
      "image/png": "[encoded data removed]",
      "text/plain": [
       "<Figure size 432x288 with 1 Axes>"
      ]
     },
     "metadata": {
      "needs_background": "light"
     },
     "output_type": "display_data"
    }
   ],
   "source": [
    "data[ \"log_charges\"] = data[ \"charges\"].apply(lambda x: np.log10(x))\n",
    "ax = sns.distplot(data[ \"log_charges\"])\n",
    "ax.set_xlabel('log_charges')"
   ]
  },
  {
   "cell_type": "markdown",
   "metadata": {},
   "source": [
    "## Pairwise EDA"
   ]
  },
  {
   "cell_type": "code",
   "execution_count": 17,
   "metadata": {},
   "outputs": [],
   "source": [
    "def correlation(data, x, y):\n",
    "    print(\"Correlation coefficients:\")\n",
    "    print( \"r   =\", stats.pearsonr(data[x], data[y])[0])\n",
    "    print( \"rho =\", stats.spearmanr(data[x], data[y])[0])\n",
    "def describe_by_category(data, numeric, categorical):\n",
    "    grouped = data.groupby(categorical)\n",
    "    grouped_y = grouped[numeric].describe()\n",
    "    print(grouped_y)\n",
    "def lowess_scatter(data, x, y, jitter=0.0, skip_lowess=False):\n",
    "\n",
    "    if skip_lowess:\n",
    "        fit = np.polyfit(data[x], data[y], 1)\n",
    "        line_x = np.linspace(data[x].min(), data[x].max(), 10)\n",
    "        line = np.poly1d(fit)\n",
    "        line_y = list(map(line, line_x))\n",
    "    else:\n",
    "        lowess = sm.nonparametric.lowess(data[y], data[x], frac=.3)\n",
    "        line_x = list(zip(*lowess))[0]\n",
    "        line_y = list(zip(*lowess))[1]\n",
    "\n",
    "    figure = plt.figure(figsize=(10, 6))\n",
    "\n",
    "    axes = figure.add_subplot(1, 1, 1)\n",
    "\n",
    "    xs = data[x]\n",
    "    if jitter > 0.0:\n",
    "        xs = data[x] + stats.norm.rvs( 0, 0.5, data[x].size)\n",
    "\n",
    "    axes.scatter(xs, data[y], marker=\"o\", color=\"DimGray\", alpha=0.5)\n",
    "    axes.plot(line_x, line_y, color=\"DarkRed\")\n",
    "\n",
    "    title = \"Plot of {0} v. {1}\".format(x, y)\n",
    "    if not skip_lowess:\n",
    "        title += \" with LOWESS\"\n",
    "    axes.set_title(title)\n",
    "    axes.set_xlabel(x)\n",
    "    axes.set_ylabel(y)\n",
    "\n",
    "    plt.show()\n",
    "    plt.close()\n",
    "    \n",
    "def multiboxplot(data, numeric, categorical, skip_data_points=True):\n",
    "    figure = plt.figure(figsize=(10, 6))\n",
    "\n",
    "    axes = figure.add_subplot(1, 1, 1)\n",
    "\n",
    "    grouped = data.groupby(categorical)\n",
    "    labels = pd.unique(data[categorical].values)\n",
    "    labels.sort()\n",
    "    grouped_data = [grouped[numeric].get_group( k) for k in labels]\n",
    "    patch = axes.boxplot( grouped_data, labels=labels, patch_artist=True, zorder=1)\n",
    "    eda.restyle_boxplot( patch)\n",
    "\n",
    "    if not skip_data_points:\n",
    "        for i, k in enumerate(labels):\n",
    "            subdata = grouped[numeric].get_group( k)\n",
    "            x = np.random.normal(i + 1, 0.01, size=len(subdata))\n",
    "            axes.plot(x, subdata, 'o', alpha=0.4, color=\"DimGray\", zorder=2)\n",
    "\n",
    "    axes.set_xlabel(categorical)\n",
    "    axes.set_ylabel(numeric)\n",
    "    axes.set_title(\"Distribution of {0} by {1}\".format(numeric, categorical))\n",
    "\n",
    "    plt.show()\n",
    "    plt.close()"
   ]
  },
  {
   "cell_type": "markdown",
   "metadata": {},
   "source": [
    "### age and charges\n",
    "\n",
    "I expect charges to increase with age as older people are more likely to have health problems making their insurance charges higher"
   ]
  },
  {
   "cell_type": "code",
   "execution_count": 18,
   "metadata": {},
   "outputs": [
    {
     "name": "stdout",
     "output_type": "stream",
     "text": [
      "Correlation coefficients:\n",
      "r   = 0.29900819333064765\n",
      "rho = 0.5343921337718459\n"
     ]
    }
   ],
   "source": [
    "correlation(data, \"age\", \"charges\")"
   ]
  },
  {
   "cell_type": "code",
   "execution_count": 19,
   "metadata": {},
   "outputs": [
    {
     "name": "stdout",
     "output_type": "stream",
     "text": [
      "     count          mean           std          min           25%  \\\n",
      "age                                                                 \n",
      "18    69.0   7086.217556  10198.459989   1121.87390   1633.044400   \n",
      "19    68.0   9747.909335  12469.537468   1241.56500   1639.563100   \n",
      "20    29.0  10159.697736  12049.624794   1391.52870   1967.022700   \n",
      "21    28.0   4730.464330   6168.059334   1515.34490   1985.288350   \n",
      "22    28.0  10012.932802  14653.363670   1664.99960   2155.351375   \n",
      "23    28.0  12419.820040  13421.332226   1815.87590   2432.780150   \n",
      "24    28.0  10648.015962  12203.650633   1969.61400   2462.839600   \n",
      "25    28.0   9838.365311  11551.289468   2137.65360   3160.320800   \n",
      "26    28.0   6133.825309   7765.729490   2302.30000   2921.320525   \n",
      "27    28.0  12184.701721  11941.821519   2483.73600   3507.332763   \n",
      "28    28.0   9069.187564  11428.968136   2689.49540   3486.981975   \n",
      "29    27.0  10430.158727  10680.198133   2866.09100   3945.504250   \n",
      "30    27.0  12719.110358  12515.212111   3554.20300   4194.077625   \n",
      "31    27.0  10196.980573  13646.442909   3260.19900   4186.987550   \n",
      "32    26.0   9220.300291   9346.679417   3866.85520   4381.383400   \n",
      "33    26.0  12351.532987  12877.615547   3704.35450   4981.876613   \n",
      "34    26.0  11613.528121  11735.073137   3935.17990   4919.159075   \n",
      "35    25.0  11307.182031  10699.982062   4746.34400   5227.988750   \n",
      "36    25.0  12204.476138  12884.341739   4399.73100   5272.175800   \n",
      "37    25.0  18019.911877  15125.287420   4646.75900   6313.759000   \n",
      "38    25.0   8102.733674   7328.907184   5383.53600   5974.384700   \n",
      "39    25.0  11778.242945   8633.209968   5649.71500   6338.075600   \n",
      "40    27.0  11772.251310   9908.912699   5415.66120   6498.560950   \n",
      "41    27.0   9653.745650   8859.592248   5699.83750   6430.389625   \n",
      "42    27.0  13061.038669  10707.617483   5966.88740   7046.110600   \n",
      "43    27.0  19267.278653  13529.394340   6250.43500   7584.377100   \n",
      "44    27.0  15859.396587  14394.948695   6948.70080   7624.074000   \n",
      "45    29.0  14830.199856  13722.541933   7222.78625   7935.291150   \n",
      "46    29.0  14342.590639  12159.482988   7147.10500   8334.457550   \n",
      "47    29.0  17653.999593  12208.024204   8062.76400   8551.347000   \n",
      "48    29.0  14632.500445  10163.267470   7789.63500   8765.249000   \n",
      "49    28.0  12696.006264   7531.013383   8116.68000   9133.667188   \n",
      "50    29.0  15663.003301  10939.123514   8442.66700   9058.730300   \n",
      "51    29.0  15682.255867  12707.113233   8782.46900   9386.161300   \n",
      "52    29.0  18256.269719  12408.353431   9140.95100   9991.037650   \n",
      "53    28.0  16020.930755  10096.072182   9487.64420  10288.192250   \n",
      "54    28.0  18758.546475  14216.087249   9850.43200  10731.578275   \n",
      "55    26.0  16164.545488  10107.689508  10214.63600  10793.057562   \n",
      "56    26.0  15025.515837   9204.315199  10577.08700  11077.561450   \n",
      "57    26.0  16447.185250   9987.941108  10959.33000  11539.710387   \n",
      "58    25.0  13878.928112   7437.416700  11345.51900  11743.934100   \n",
      "59    25.0  18895.869532  11170.560074  11743.29900  12333.828000   \n",
      "60    23.0  21979.418507  14923.698375  12142.57860  12646.646200   \n",
      "61    23.0  22024.457609  12525.158617  12557.60530  13136.470050   \n",
      "62    23.0  19163.856573  10320.270030  12957.11800  13454.541400   \n",
      "63    23.0  19884.998461  11850.935198  13390.55900  13887.586250   \n",
      "64    22.0  23275.530837  13029.841607  13822.80300  14398.651450   \n",
      "\n",
      "              50%           75%          max  \n",
      "age                                           \n",
      "18    2198.189850  11272.331390  38792.68560  \n",
      "19    2135.891875  17148.980075  39722.74620  \n",
      "20    2459.720100  17085.267600  38344.56600  \n",
      "21    2254.423600   3205.349713  26018.95052  \n",
      "22    2641.155700   4078.134675  44501.39820  \n",
      "23    3594.538000  19145.024148  40904.19950  \n",
      "24    3045.137650  17508.424985  38126.24650  \n",
      "25    3750.148925  16333.214445  42112.23560  \n",
      "26    3388.882175   3983.464100  36085.21900  \n",
      "27    4544.324475  18262.557125  39611.75770  \n",
      "28    4344.951450   5387.969638  51194.55914  \n",
      "29    4906.409650  16398.239750  44585.45587  \n",
      "30    4837.582300  18864.523685  40932.42950  \n",
      "31    4738.268200   5769.127200  58571.07448  \n",
      "32    4672.016100   6282.957025  37607.52770  \n",
      "33    6210.083300  15683.447812  55135.40209  \n",
      "34    5490.091700  13703.235488  43943.87610  \n",
      "35    5836.520400  19361.998800  39983.42595  \n",
      "36    5478.036800   7243.813600  43753.33705  \n",
      "37    6985.506950  37270.151200  46113.51100  \n",
      "38    6455.862650   6933.242250  41949.24410  \n",
      "39    7512.267000  19023.260000  40103.89000  \n",
      "40    7077.189400  12040.553015  40003.33225  \n",
      "41    6875.961000   7560.464200  40273.64550  \n",
      "42    7443.643050  19740.143950  43896.37630  \n",
      "43   18767.737700  22179.710000  45863.20500  \n",
      "44    8023.135450  16196.009635  48885.13561  \n",
      "45    8603.823400   9788.865900  62592.87309  \n",
      "46    8825.086000   9500.573050  46151.12450  \n",
      "47    9715.841000  24535.698550  44202.65360  \n",
      "48    9447.382400  21223.675800  45702.02235  \n",
      "49    9681.120250  10530.410600  39727.61400  \n",
      "50   10107.220600  19749.383380  42856.83800  \n",
      "51    9875.680400  11436.738150  47462.89400  \n",
      "52   11396.900200  24667.419000  60021.39897  \n",
      "53   11157.174000  20646.202745  46661.44240  \n",
      "54   11816.449500  24702.933133  63770.42801  \n",
      "55   11880.231025  12906.949488  44423.80300  \n",
      "56   11658.247100  12573.420100  43921.18370  \n",
      "57   11893.878225  14101.812875  48675.51770  \n",
      "58   11931.125250  12231.613600  47496.49445  \n",
      "59   12928.791100  21797.000400  48970.24760  \n",
      "60   13204.285650  29591.566240  52590.82939  \n",
      "61   13635.637900  29005.012100  48517.56315  \n",
      "62   13844.797200  21306.589040  46718.16325  \n",
      "63   14349.854400  15362.628875  48824.45000  \n",
      "64   15528.758375  28757.715888  49577.66240  \n"
     ]
    }
   ],
   "source": [
    "describe_by_category(data, \"charges\", \"age\")"
   ]
  },
  {
   "cell_type": "code",
   "execution_count": 20,
   "metadata": {},
   "outputs": [
    {
     "data": {
      "image/png": "[encoded data removed]",
      "text/plain": [
       "<Figure size 720x432 with 1 Axes>"
      ]
     },
     "metadata": {
      "needs_background": "light"
     },
     "output_type": "display_data"
    }
   ],
   "source": [
    "lowess_scatter(data,\"age\",\"charges\")"
   ]
  },
  {
   "cell_type": "markdown",
   "metadata": {},
   "source": [
    "Barring any outliers, we can see there is a positive linear trend between age and charges"
   ]
  },
  {
   "cell_type": "markdown",
   "metadata": {},
   "source": [
    "### sex and charges\n",
    "\n",
    "I charges between male and female to be relatively the same"
   ]
  },
  {
   "cell_type": "code",
   "execution_count": 21,
   "metadata": {},
   "outputs": [
    {
     "name": "stdout",
     "output_type": "stream",
     "text": [
      "        count          mean           std        min        25%         50%  \\\n",
      "sex                                                                           \n",
      "female  662.0  12569.578844  11128.703801  1607.5101  4885.1587  9412.96250   \n",
      "male    676.0  13956.751178  12971.025915  1121.8739  4619.1340  9369.61575   \n",
      "\n",
      "                 75%          max  \n",
      "sex                                \n",
      "female  14454.691825  63770.42801  \n",
      "male    18989.590250  62592.87309  \n"
     ]
    }
   ],
   "source": [
    "describe_by_category(data, \"charges\", \"sex\")"
   ]
  },
  {
   "cell_type": "markdown",
   "metadata": {},
   "source": [
    "### bmi and charges\n",
    "\n",
    "I expect charges to increase with bmi as obese people are more likely to have health problems making their insurance charges higher"
   ]
  },
  {
   "cell_type": "code",
   "execution_count": 22,
   "metadata": {},
   "outputs": [
    {
     "name": "stdout",
     "output_type": "stream",
     "text": [
      "Correlation coefficients:\n",
      "r   = 0.19834096883362887\n",
      "rho = 0.11939590358331145\n"
     ]
    }
   ],
   "source": [
    "correlation(data, \"bmi\", \"charges\")"
   ]
  },
  {
   "cell_type": "code",
   "execution_count": 23,
   "metadata": {},
   "outputs": [
    {
     "data": {
      "image/png": "[encoded data removed]",
      "text/plain": [
       "<Figure size 720x432 with 1 Axes>"
      ]
     },
     "metadata": {
      "needs_background": "light"
     },
     "output_type": "display_data"
    }
   ],
   "source": [
    "lowess_scatter(data,\"bmi\",\"charges\")"
   ]
  },
  {
   "cell_type": "markdown",
   "metadata": {},
   "source": [
    "Although the trendline increases then decreases as BMI increases, we do see that the higher charge amounts >40000 all come from patients with a bmi >30 which is the obesity range"
   ]
  },
  {
   "cell_type": "markdown",
   "metadata": {},
   "source": [
    "### children and charges\n",
    "\n",
    "I expect charges to increase with the amount of children due to increased hospital visits"
   ]
  },
  {
   "cell_type": "code",
   "execution_count": 24,
   "metadata": {},
   "outputs": [
    {
     "name": "stdout",
     "output_type": "stream",
     "text": [
      "Correlation coefficients:\n",
      "r   = 0.06799822684790482\n",
      "rho = 0.13333894319168216\n"
     ]
    }
   ],
   "source": [
    "correlation(data, \"children\", \"charges\")"
   ]
  },
  {
   "cell_type": "code",
   "execution_count": 25,
   "metadata": {},
   "outputs": [
    {
     "name": "stdout",
     "output_type": "stream",
     "text": [
      "          count          mean           std        min          25%  \\\n",
      "children                                                              \n",
      "0         574.0  12365.975602  12023.293942  1121.8739  2734.421150   \n",
      "1         324.0  12731.171832  11823.631451  1711.0268  4791.643175   \n",
      "2         240.0  15073.563734  12891.368347  2304.0022  6284.939438   \n",
      "3         157.0  15355.318367  12330.869484  3443.0640  6652.528800   \n",
      "4          25.0  13850.656311   9139.223321  4504.6624  7512.267000   \n",
      "5          18.0   8786.035247   3808.435525  4687.7970  5874.973900   \n",
      "\n",
      "                  50%           75%          max  \n",
      "children                                          \n",
      "0          9856.95190  14440.123825  63770.42801  \n",
      "1          8483.87015  15632.052050  58571.07448  \n",
      "2          9264.97915  20379.276748  49577.66240  \n",
      "3         10600.54830  19199.944000  60021.39897  \n",
      "4         11033.66170  17128.426080  40182.24600  \n",
      "5          8589.56505  10019.943975  19023.26000  \n"
     ]
    }
   ],
   "source": [
    "describe_by_category(data, \"charges\",\"children\")"
   ]
  },
  {
   "cell_type": "code",
   "execution_count": 26,
   "metadata": {},
   "outputs": [
    {
     "name": "stderr",
     "output_type": "stream",
     "text": [
      "/Users/reza/anaconda3/lib/python3.7/site-packages/statsmodels/nonparametric/smoothers_lowess.py:165: RuntimeWarning: invalid value encountered in true_divide\n",
      "  res = _lowess(y, x, frac=frac, it=it, delta=delta)\n",
      "/Users/reza/anaconda3/lib/python3.7/site-packages/numpy/lib/function_base.py:3405: RuntimeWarning: Invalid value encountered in median\n",
      "  r = func(a, **kwargs)\n",
      "/Users/reza/anaconda3/lib/python3.7/site-packages/statsmodels/nonparametric/smoothers_lowess.py:165: RuntimeWarning: invalid value encountered in greater_equal\n",
      "  res = _lowess(y, x, frac=frac, it=it, delta=delta)\n"
     ]
    },
    {
     "data": {
      "image/png": "[encoded data removed]",
      "text/plain": [
       "<Figure size 720x432 with 1 Axes>"
      ]
     },
     "metadata": {
      "needs_background": "light"
     },
     "output_type": "display_data"
    }
   ],
   "source": [
    "lowess_scatter(data,\"children\",\"charges\")"
   ]
  },
  {
   "cell_type": "markdown",
   "metadata": {},
   "source": [
    "Although people with 4-5 children seem to have lower amount of charges than people with less children, that could be due to lack of data as well. According to the correlation coefficient there is no correlation"
   ]
  },
  {
   "cell_type": "markdown",
   "metadata": {},
   "source": [
    "### smoker and charges\n",
    "\n",
    "I expect charges to to be significantly higher for people that smoke than people that dont smoke"
   ]
  },
  {
   "cell_type": "code",
   "execution_count": 27,
   "metadata": {},
   "outputs": [
    {
     "name": "stdout",
     "output_type": "stream",
     "text": [
      "         count          mean           std         min           25%  \\\n",
      "smoker                                                                 \n",
      "no      1064.0   8434.268298   5993.781819   1121.8739   3986.438700   \n",
      "yes      274.0  32050.231832  11541.547176  12829.4551  20826.244213   \n",
      "\n",
      "                50%           75%          max  \n",
      "smoker                                          \n",
      "no       7345.40530  11362.887050  36910.60803  \n",
      "yes     34456.34845  41019.207275  63770.42801  \n"
     ]
    }
   ],
   "source": [
    "describe_by_category(data,\"charges\",\"smoker\")"
   ]
  },
  {
   "cell_type": "code",
   "execution_count": 31,
   "metadata": {},
   "outputs": [
    {
     "data": {
      "text/plain": [
       "<matplotlib.axes._subplots.AxesSubplot at 0x7fbefb820518>"
      ]
     },
     "execution_count": 31,
     "metadata": {},
     "output_type": "execute_result"
    },
    {
     "data": {
      "image/png": "[encoded data removed]",
      "text/plain": [
       "<Figure size 432x288 with 1 Axes>"
      ]
     },
     "metadata": {
      "needs_background": "light"
     },
     "output_type": "display_data"
    }
   ],
   "source": [
    "sns.barplot(x=\"smoker\", y=\"charges\", hue = \"sex\", data=data)"
   ]
  },
  {
   "cell_type": "markdown",
   "metadata": {},
   "source": [
    "The people that smoke have siginicianly more amoutn of insurance changes than people that dont smoke as shown by the bar plot above"
   ]
  },
  {
   "cell_type": "markdown",
   "metadata": {},
   "source": [
    "### region and charges\n",
    "\n",
    "I charges to stay the same across region except for southeast since there are more people from that region in the dataset"
   ]
  },
  {
   "cell_type": "code",
   "execution_count": 29,
   "metadata": {},
   "outputs": [
    {
     "data": {
      "text/plain": [
       "<matplotlib.axes._subplots.AxesSubplot at 0x7fbef8b28438>"
      ]
     },
     "execution_count": 29,
     "metadata": {},
     "output_type": "execute_result"
    },
    {
     "data": {
      "image/png": "[encoded data removed]",
      "text/plain": [
       "<Figure size 432x288 with 1 Axes>"
      ]
     },
     "metadata": {
      "needs_background": "light"
     },
     "output_type": "display_data"
    }
   ],
   "source": [
    "sns.barplot(x=\"region\", y=\"charges\", data=data)"
   ]
  },
  {
   "cell_type": "code",
   "execution_count": 30,
   "metadata": {},
   "outputs": [
    {
     "name": "stdout",
     "output_type": "stream",
     "text": [
      "           count          mean           std        min          25%  \\\n",
      "region                                                                 \n",
      "northeast  324.0  13406.384516  11255.803066  1694.7964  5194.322288   \n",
      "northwest  325.0  12417.575374  11072.276928  1621.3402  4719.736550   \n",
      "southeast  364.0  14735.411438  13971.098589  1121.8739  4440.886200   \n",
      "southwest  325.0  12346.937377  11557.179101  1241.5650  4751.070000   \n",
      "\n",
      "                    50%         75%          max  \n",
      "region                                            \n",
      "northeast  10057.652025  16687.3641  58571.07448  \n",
      "northwest   8965.795750  14711.7438  60021.39897  \n",
      "southeast   9294.131950  19526.2869  63770.42801  \n",
      "southwest   8798.593000  13462.5200  52590.82939  \n"
     ]
    }
   ],
   "source": [
    "describe_by_category(data, \"charges\",\"region\")"
   ]
  },
  {
   "cell_type": "markdown",
   "metadata": {},
   "source": [
    "The southeast region did have more charges than the rest of the regions but the northeast region unusually had more changes than northwest and southwest."
   ]
  }
 ],
 "metadata": {
  "jupytext": {
   "formats": "ipynb,md:myst"
  },
  "kernelspec": {
   "display_name": "Python 3",
   "language": "python",
   "name": "python3"
  },
  "language_info": {
   "codemirror_mode": {
    "name": "ipython",
    "version": 3
   },
   "file_extension": ".py",
   "mimetype": "text/x-python",
   "name": "python",
   "nbconvert_exporter": "python",
   "pygments_lexer": "ipython3",
   "version": "3.7.3"
  },
  "toc": {
   "colors": {
    "hover_highlight": "#DAA520",
    "navigate_num": "#000000",
    "navigate_text": "#333333",
    "running_highlight": "#FF0000",
    "selected_highlight": "#FFD700",
    "sidebar_border": "#EEEEEE",
    "wrapper_background": "#FFFFFF"
   },
   "moveMenuLeft": true,
   "nav_menu": {
    "height": "156px",
    "width": "252px"
   },
   "navigate_menu": true,
   "number_sections": true,
   "sideBar": true,
   "threshold": 4,
   "toc_cell": false,
   "toc_section_display": "block",
   "toc_window_display": false,
   "widenNotebook": false
  }
 },
 "nbformat": 4,
 "nbformat_minor": 4
}
